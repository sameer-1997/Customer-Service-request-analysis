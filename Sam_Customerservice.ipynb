{
 "cells": [
  {
   "cell_type": "code",
   "execution_count": 1,
   "metadata": {},
   "outputs": [],
   "source": [
    "%matplotlib inline\n",
    "### import libraries\n",
    "import numpy as np\n",
    "import pandas as pd\n",
    "\n",
    "\n",
    "import matplotlib.pyplot as plt\n",
    "from matplotlib import style\n",
    "import seaborn as sns "
   ]
  },
  {
   "cell_type": "code",
   "execution_count": 2,
   "metadata": {},
   "outputs": [
    {
     "name": "stderr",
     "output_type": "stream",
     "text": [
      "C:\\Users\\lenovo\\anaconda3\\lib\\site-packages\\IPython\\core\\interactiveshell.py:3063: DtypeWarning: Columns (48,49) have mixed types.Specify dtype option on import or set low_memory=False.\n",
      "  interactivity=interactivity, compiler=compiler, result=result)\n"
     ]
    }
   ],
   "source": [
    "Customerservice = pd.read_csv ('311_Service_Requests_from_2010_to_Present.csv')"
   ]
  },
  {
   "cell_type": "code",
   "execution_count": 3,
   "metadata": {},
   "outputs": [
    {
     "data": {
      "text/html": [
       "<div>\n",
       "<style scoped>\n",
       "    .dataframe tbody tr th:only-of-type {\n",
       "        vertical-align: middle;\n",
       "    }\n",
       "\n",
       "    .dataframe tbody tr th {\n",
       "        vertical-align: top;\n",
       "    }\n",
       "\n",
       "    .dataframe thead th {\n",
       "        text-align: right;\n",
       "    }\n",
       "</style>\n",
       "<table border=\"1\" class=\"dataframe\">\n",
       "  <thead>\n",
       "    <tr style=\"text-align: right;\">\n",
       "      <th></th>\n",
       "      <th>Unique Key</th>\n",
       "      <th>Created Date</th>\n",
       "      <th>Closed Date</th>\n",
       "      <th>Agency</th>\n",
       "      <th>Agency Name</th>\n",
       "      <th>Complaint Type</th>\n",
       "      <th>Descriptor</th>\n",
       "      <th>Location Type</th>\n",
       "      <th>Incident Zip</th>\n",
       "      <th>Incident Address</th>\n",
       "      <th>...</th>\n",
       "      <th>Bridge Highway Name</th>\n",
       "      <th>Bridge Highway Direction</th>\n",
       "      <th>Road Ramp</th>\n",
       "      <th>Bridge Highway Segment</th>\n",
       "      <th>Garage Lot Name</th>\n",
       "      <th>Ferry Direction</th>\n",
       "      <th>Ferry Terminal Name</th>\n",
       "      <th>Latitude</th>\n",
       "      <th>Longitude</th>\n",
       "      <th>Location</th>\n",
       "    </tr>\n",
       "  </thead>\n",
       "  <tbody>\n",
       "    <tr>\n",
       "      <th>0</th>\n",
       "      <td>32310363</td>\n",
       "      <td>12/31/2015 11:59:45 PM</td>\n",
       "      <td>01-01-16 0:55</td>\n",
       "      <td>NYPD</td>\n",
       "      <td>New York City Police Department</td>\n",
       "      <td>Noise - Street/Sidewalk</td>\n",
       "      <td>Loud Music/Party</td>\n",
       "      <td>Street/Sidewalk</td>\n",
       "      <td>10034.0</td>\n",
       "      <td>71 VERMILYEA AVENUE</td>\n",
       "      <td>...</td>\n",
       "      <td>NaN</td>\n",
       "      <td>NaN</td>\n",
       "      <td>NaN</td>\n",
       "      <td>NaN</td>\n",
       "      <td>NaN</td>\n",
       "      <td>NaN</td>\n",
       "      <td>NaN</td>\n",
       "      <td>40.865682</td>\n",
       "      <td>-73.923501</td>\n",
       "      <td>(40.86568153633767, -73.92350095571744)</td>\n",
       "    </tr>\n",
       "    <tr>\n",
       "      <th>1</th>\n",
       "      <td>32309934</td>\n",
       "      <td>12/31/2015 11:59:44 PM</td>\n",
       "      <td>01-01-16 1:26</td>\n",
       "      <td>NYPD</td>\n",
       "      <td>New York City Police Department</td>\n",
       "      <td>Blocked Driveway</td>\n",
       "      <td>No Access</td>\n",
       "      <td>Street/Sidewalk</td>\n",
       "      <td>11105.0</td>\n",
       "      <td>27-07 23 AVENUE</td>\n",
       "      <td>...</td>\n",
       "      <td>NaN</td>\n",
       "      <td>NaN</td>\n",
       "      <td>NaN</td>\n",
       "      <td>NaN</td>\n",
       "      <td>NaN</td>\n",
       "      <td>NaN</td>\n",
       "      <td>NaN</td>\n",
       "      <td>40.775945</td>\n",
       "      <td>-73.915094</td>\n",
       "      <td>(40.775945312321085, -73.91509393898605)</td>\n",
       "    </tr>\n",
       "    <tr>\n",
       "      <th>2</th>\n",
       "      <td>32309159</td>\n",
       "      <td>12/31/2015 11:59:29 PM</td>\n",
       "      <td>01-01-16 4:51</td>\n",
       "      <td>NYPD</td>\n",
       "      <td>New York City Police Department</td>\n",
       "      <td>Blocked Driveway</td>\n",
       "      <td>No Access</td>\n",
       "      <td>Street/Sidewalk</td>\n",
       "      <td>10458.0</td>\n",
       "      <td>2897 VALENTINE AVENUE</td>\n",
       "      <td>...</td>\n",
       "      <td>NaN</td>\n",
       "      <td>NaN</td>\n",
       "      <td>NaN</td>\n",
       "      <td>NaN</td>\n",
       "      <td>NaN</td>\n",
       "      <td>NaN</td>\n",
       "      <td>NaN</td>\n",
       "      <td>40.870325</td>\n",
       "      <td>-73.888525</td>\n",
       "      <td>(40.870324522111424, -73.88852464418646)</td>\n",
       "    </tr>\n",
       "    <tr>\n",
       "      <th>3</th>\n",
       "      <td>32305098</td>\n",
       "      <td>12/31/2015 11:57:46 PM</td>\n",
       "      <td>01-01-16 7:43</td>\n",
       "      <td>NYPD</td>\n",
       "      <td>New York City Police Department</td>\n",
       "      <td>Illegal Parking</td>\n",
       "      <td>Commercial Overnight Parking</td>\n",
       "      <td>Street/Sidewalk</td>\n",
       "      <td>10461.0</td>\n",
       "      <td>2940 BAISLEY AVENUE</td>\n",
       "      <td>...</td>\n",
       "      <td>NaN</td>\n",
       "      <td>NaN</td>\n",
       "      <td>NaN</td>\n",
       "      <td>NaN</td>\n",
       "      <td>NaN</td>\n",
       "      <td>NaN</td>\n",
       "      <td>NaN</td>\n",
       "      <td>40.835994</td>\n",
       "      <td>-73.828379</td>\n",
       "      <td>(40.83599404683083, -73.82837939584206)</td>\n",
       "    </tr>\n",
       "    <tr>\n",
       "      <th>4</th>\n",
       "      <td>32306529</td>\n",
       "      <td>12/31/2015 11:56:58 PM</td>\n",
       "      <td>01-01-16 3:24</td>\n",
       "      <td>NYPD</td>\n",
       "      <td>New York City Police Department</td>\n",
       "      <td>Illegal Parking</td>\n",
       "      <td>Blocked Sidewalk</td>\n",
       "      <td>Street/Sidewalk</td>\n",
       "      <td>11373.0</td>\n",
       "      <td>87-14 57 ROAD</td>\n",
       "      <td>...</td>\n",
       "      <td>NaN</td>\n",
       "      <td>NaN</td>\n",
       "      <td>NaN</td>\n",
       "      <td>NaN</td>\n",
       "      <td>NaN</td>\n",
       "      <td>NaN</td>\n",
       "      <td>NaN</td>\n",
       "      <td>40.733060</td>\n",
       "      <td>-73.874170</td>\n",
       "      <td>(40.733059618956815, -73.87416975810375)</td>\n",
       "    </tr>\n",
       "  </tbody>\n",
       "</table>\n",
       "<p>5 rows × 53 columns</p>\n",
       "</div>"
      ],
      "text/plain": [
       "   Unique Key            Created Date    Closed Date Agency  \\\n",
       "0    32310363  12/31/2015 11:59:45 PM  01-01-16 0:55   NYPD   \n",
       "1    32309934  12/31/2015 11:59:44 PM  01-01-16 1:26   NYPD   \n",
       "2    32309159  12/31/2015 11:59:29 PM  01-01-16 4:51   NYPD   \n",
       "3    32305098  12/31/2015 11:57:46 PM  01-01-16 7:43   NYPD   \n",
       "4    32306529  12/31/2015 11:56:58 PM  01-01-16 3:24   NYPD   \n",
       "\n",
       "                       Agency Name           Complaint Type  \\\n",
       "0  New York City Police Department  Noise - Street/Sidewalk   \n",
       "1  New York City Police Department         Blocked Driveway   \n",
       "2  New York City Police Department         Blocked Driveway   \n",
       "3  New York City Police Department          Illegal Parking   \n",
       "4  New York City Police Department          Illegal Parking   \n",
       "\n",
       "                     Descriptor    Location Type  Incident Zip  \\\n",
       "0              Loud Music/Party  Street/Sidewalk       10034.0   \n",
       "1                     No Access  Street/Sidewalk       11105.0   \n",
       "2                     No Access  Street/Sidewalk       10458.0   \n",
       "3  Commercial Overnight Parking  Street/Sidewalk       10461.0   \n",
       "4              Blocked Sidewalk  Street/Sidewalk       11373.0   \n",
       "\n",
       "        Incident Address  ... Bridge Highway Name Bridge Highway Direction  \\\n",
       "0    71 VERMILYEA AVENUE  ...                 NaN                      NaN   \n",
       "1        27-07 23 AVENUE  ...                 NaN                      NaN   \n",
       "2  2897 VALENTINE AVENUE  ...                 NaN                      NaN   \n",
       "3    2940 BAISLEY AVENUE  ...                 NaN                      NaN   \n",
       "4          87-14 57 ROAD  ...                 NaN                      NaN   \n",
       "\n",
       "  Road Ramp Bridge Highway Segment Garage Lot Name Ferry Direction  \\\n",
       "0       NaN                    NaN             NaN             NaN   \n",
       "1       NaN                    NaN             NaN             NaN   \n",
       "2       NaN                    NaN             NaN             NaN   \n",
       "3       NaN                    NaN             NaN             NaN   \n",
       "4       NaN                    NaN             NaN             NaN   \n",
       "\n",
       "  Ferry Terminal Name   Latitude  Longitude  \\\n",
       "0                 NaN  40.865682 -73.923501   \n",
       "1                 NaN  40.775945 -73.915094   \n",
       "2                 NaN  40.870325 -73.888525   \n",
       "3                 NaN  40.835994 -73.828379   \n",
       "4                 NaN  40.733060 -73.874170   \n",
       "\n",
       "                                   Location  \n",
       "0   (40.86568153633767, -73.92350095571744)  \n",
       "1  (40.775945312321085, -73.91509393898605)  \n",
       "2  (40.870324522111424, -73.88852464418646)  \n",
       "3   (40.83599404683083, -73.82837939584206)  \n",
       "4  (40.733059618956815, -73.87416975810375)  \n",
       "\n",
       "[5 rows x 53 columns]"
      ]
     },
     "execution_count": 3,
     "metadata": {},
     "output_type": "execute_result"
    }
   ],
   "source": [
    "Customerservice.head()"
   ]
  },
  {
   "cell_type": "code",
   "execution_count": 4,
   "metadata": {},
   "outputs": [
    {
     "data": {
      "text/plain": [
       "15936994"
      ]
     },
     "execution_count": 4,
     "metadata": {},
     "output_type": "execute_result"
    }
   ],
   "source": [
    "Customerservice.size"
   ]
  },
  {
   "cell_type": "code",
   "execution_count": 5,
   "metadata": {},
   "outputs": [
    {
     "data": {
      "text/plain": [
       "(300698, 53)"
      ]
     },
     "execution_count": 5,
     "metadata": {},
     "output_type": "execute_result"
    }
   ],
   "source": [
    "Customerservice.shape"
   ]
  },
  {
   "cell_type": "code",
   "execution_count": 6,
   "metadata": {},
   "outputs": [
    {
     "data": {
      "text/plain": [
       "Index(['Unique Key', 'Created Date', 'Closed Date', 'Agency', 'Agency Name',\n",
       "       'Complaint Type', 'Descriptor', 'Location Type', 'Incident Zip',\n",
       "       'Incident Address', 'Street Name', 'Cross Street 1', 'Cross Street 2',\n",
       "       'Intersection Street 1', 'Intersection Street 2', 'Address Type',\n",
       "       'City', 'Landmark', 'Facility Type', 'Status', 'Due Date',\n",
       "       'Resolution Description', 'Resolution Action Updated Date',\n",
       "       'Community Board', 'Borough', 'X Coordinate (State Plane)',\n",
       "       'Y Coordinate (State Plane)', 'Park Facility Name', 'Park Borough',\n",
       "       'School Name', 'School Number', 'School Region', 'School Code',\n",
       "       'School Phone Number', 'School Address', 'School City', 'School State',\n",
       "       'School Zip', 'School Not Found', 'School or Citywide Complaint',\n",
       "       'Vehicle Type', 'Taxi Company Borough', 'Taxi Pick Up Location',\n",
       "       'Bridge Highway Name', 'Bridge Highway Direction', 'Road Ramp',\n",
       "       'Bridge Highway Segment', 'Garage Lot Name', 'Ferry Direction',\n",
       "       'Ferry Terminal Name', 'Latitude', 'Longitude', 'Location'],\n",
       "      dtype='object')"
      ]
     },
     "execution_count": 6,
     "metadata": {},
     "output_type": "execute_result"
    }
   ],
   "source": [
    "Customerservice.columns"
   ]
  },
  {
   "cell_type": "code",
   "execution_count": 7,
   "metadata": {},
   "outputs": [
    {
     "data": {
      "text/plain": [
       "array(['Noise - Street/Sidewalk', 'Blocked Driveway', 'Illegal Parking',\n",
       "       'Derelict Vehicle', 'Noise - Commercial',\n",
       "       'Noise - House of Worship', 'Posting Advertisement',\n",
       "       'Noise - Vehicle', 'Animal Abuse', 'Vending', 'Traffic',\n",
       "       'Drinking', 'Bike/Roller/Skate Chronic', 'Panhandling',\n",
       "       'Noise - Park', 'Homeless Encampment', 'Urinating in Public',\n",
       "       'Graffiti', 'Disorderly Youth', 'Illegal Fireworks',\n",
       "       'Ferry Complaint', 'Agency Issues', 'Squeegee', 'Animal in a Park'],\n",
       "      dtype=object)"
      ]
     },
     "execution_count": 7,
     "metadata": {},
     "output_type": "execute_result"
    }
   ],
   "source": [
    "Customerservice['Complaint Type'].unique()"
   ]
  },
  {
   "cell_type": "code",
   "execution_count": 8,
   "metadata": {},
   "outputs": [
    {
     "data": {
      "text/plain": [
       "array(['Loud Music/Party', 'No Access', 'Commercial Overnight Parking',\n",
       "       'Blocked Sidewalk', 'Posted Parking Sign Violation',\n",
       "       'Blocked Hydrant', 'With License Plate', 'Partial Access',\n",
       "       'Unauthorized Bus Layover', 'Double Parked Blocking Vehicle',\n",
       "       'Double Parked Blocking Traffic', 'Vehicle', 'Loud Talking',\n",
       "       'Banging/Pounding', 'Car/Truck Music', 'Tortured',\n",
       "       'In Prohibited Area', 'Congestion/Gridlock', 'Neglected',\n",
       "       'Car/Truck Horn', 'In Public', 'Other (complaint details)', nan,\n",
       "       'No Shelter', 'Truck Route Violation', 'Unlicensed',\n",
       "       'Overnight Commercial Storage', 'Engine Idling',\n",
       "       'After Hours - Licensed Est', 'Detached Trailer',\n",
       "       'Underage - Licensed Est', 'Chronic Stoplight Violation',\n",
       "       'Loud Television', 'Chained', 'Building', 'In Car',\n",
       "       'Police Report Requested', 'Chronic Speeding',\n",
       "       'Playing in Unsuitable Place', 'Drag Racing',\n",
       "       'Police Report Not Requested', 'Nuisance/Truant', 'Homeless Issue',\n",
       "       'Language Access Complaint', 'Disruptive Passenger',\n",
       "       'Animal Waste'], dtype=object)"
      ]
     },
     "execution_count": 8,
     "metadata": {},
     "output_type": "execute_result"
    }
   ],
   "source": [
    "Customerservice['Descriptor'].unique()"
   ]
  },
  {
   "cell_type": "code",
   "execution_count": 9,
   "metadata": {},
   "outputs": [],
   "source": [
    "ComplaintCity = pd.DataFrame( {'count': Customerservice.groupby([ 'Complaint Type', 'City']).size()}).reset_index()"
   ]
  },
  {
   "cell_type": "code",
   "execution_count": 10,
   "metadata": {},
   "outputs": [
    {
     "data": {
      "text/html": [
       "<div>\n",
       "<style scoped>\n",
       "    .dataframe tbody tr th:only-of-type {\n",
       "        vertical-align: middle;\n",
       "    }\n",
       "\n",
       "    .dataframe tbody tr th {\n",
       "        vertical-align: top;\n",
       "    }\n",
       "\n",
       "    .dataframe thead th {\n",
       "        text-align: right;\n",
       "    }\n",
       "</style>\n",
       "<table border=\"1\" class=\"dataframe\">\n",
       "  <thead>\n",
       "    <tr style=\"text-align: right;\">\n",
       "      <th></th>\n",
       "      <th>Complaint Type</th>\n",
       "      <th>City</th>\n",
       "      <th>count</th>\n",
       "    </tr>\n",
       "  </thead>\n",
       "  <tbody>\n",
       "    <tr>\n",
       "      <th>0</th>\n",
       "      <td>Animal Abuse</td>\n",
       "      <td>ARVERNE</td>\n",
       "      <td>38</td>\n",
       "    </tr>\n",
       "    <tr>\n",
       "      <th>1</th>\n",
       "      <td>Animal Abuse</td>\n",
       "      <td>ASTORIA</td>\n",
       "      <td>125</td>\n",
       "    </tr>\n",
       "    <tr>\n",
       "      <th>2</th>\n",
       "      <td>Animal Abuse</td>\n",
       "      <td>BAYSIDE</td>\n",
       "      <td>37</td>\n",
       "    </tr>\n",
       "    <tr>\n",
       "      <th>3</th>\n",
       "      <td>Animal Abuse</td>\n",
       "      <td>BELLEROSE</td>\n",
       "      <td>7</td>\n",
       "    </tr>\n",
       "    <tr>\n",
       "      <th>4</th>\n",
       "      <td>Animal Abuse</td>\n",
       "      <td>BREEZY POINT</td>\n",
       "      <td>2</td>\n",
       "    </tr>\n",
       "    <tr>\n",
       "      <th>...</th>\n",
       "      <td>...</td>\n",
       "      <td>...</td>\n",
       "      <td>...</td>\n",
       "    </tr>\n",
       "    <tr>\n",
       "      <th>759</th>\n",
       "      <td>Vending</td>\n",
       "      <td>STATEN ISLAND</td>\n",
       "      <td>25</td>\n",
       "    </tr>\n",
       "    <tr>\n",
       "      <th>760</th>\n",
       "      <td>Vending</td>\n",
       "      <td>SUNNYSIDE</td>\n",
       "      <td>15</td>\n",
       "    </tr>\n",
       "    <tr>\n",
       "      <th>761</th>\n",
       "      <td>Vending</td>\n",
       "      <td>WHITESTONE</td>\n",
       "      <td>1</td>\n",
       "    </tr>\n",
       "    <tr>\n",
       "      <th>762</th>\n",
       "      <td>Vending</td>\n",
       "      <td>WOODHAVEN</td>\n",
       "      <td>6</td>\n",
       "    </tr>\n",
       "    <tr>\n",
       "      <th>763</th>\n",
       "      <td>Vending</td>\n",
       "      <td>WOODSIDE</td>\n",
       "      <td>15</td>\n",
       "    </tr>\n",
       "  </tbody>\n",
       "</table>\n",
       "<p>764 rows × 3 columns</p>\n",
       "</div>"
      ],
      "text/plain": [
       "    Complaint Type           City  count\n",
       "0     Animal Abuse        ARVERNE     38\n",
       "1     Animal Abuse        ASTORIA    125\n",
       "2     Animal Abuse        BAYSIDE     37\n",
       "3     Animal Abuse      BELLEROSE      7\n",
       "4     Animal Abuse   BREEZY POINT      2\n",
       "..             ...            ...    ...\n",
       "759        Vending  STATEN ISLAND     25\n",
       "760        Vending      SUNNYSIDE     15\n",
       "761        Vending     WHITESTONE      1\n",
       "762        Vending      WOODHAVEN      6\n",
       "763        Vending       WOODSIDE     15\n",
       "\n",
       "[764 rows x 3 columns]"
      ]
     },
     "execution_count": 10,
     "metadata": {},
     "output_type": "execute_result"
    }
   ],
   "source": [
    "ComplaintCity"
   ]
  },
  {
   "cell_type": "code",
   "execution_count": 11,
   "metadata": {},
   "outputs": [
    {
     "data": {
      "text/plain": [
       "Borough      Complaint Type         Descriptor               \n",
       "BRONX        Animal Abuse           Chained                      132\n",
       "                                    In Car                        36\n",
       "                                    Neglected                    673\n",
       "                                    No Shelter                    71\n",
       "                                    Other (complaint details)    311\n",
       "                                                                ... \n",
       "Unspecified  Noise - Vehicle        Engine Idling                 11\n",
       "             Posting Advertisement  Vehicle                        1\n",
       "             Traffic                Truck Route Violation          1\n",
       "             Vending                In Prohibited Area             2\n",
       "                                    Unlicensed                     5\n",
       "Length: 288, dtype: int64"
      ]
     },
     "execution_count": 11,
     "metadata": {},
     "output_type": "execute_result"
    }
   ],
   "source": [
    "Customerservice.groupby(['Borough','Complaint Type','Descriptor']).size()"
   ]
  },
  {
   "cell_type": "code",
   "execution_count": 12,
   "metadata": {},
   "outputs": [
    {
     "data": {
      "text/plain": [
       "Community Board            Complaint Type           Descriptor               \n",
       "0 Unspecified              Agency Issues            Language Access Complaint    6\n",
       "                           Animal Abuse             In Car                       1\n",
       "                                                    Neglected                    5\n",
       "                                                    Other (complaint details)    2\n",
       "                                                    Tortured                     3\n",
       "                                                                                ..\n",
       "Unspecified MANHATTAN      Noise - Street/Sidewalk  Loud Talking                 1\n",
       "Unspecified QUEENS         Illegal Parking          Blocked Sidewalk             1\n",
       "                           Noise - Street/Sidewalk  Loud Music/Party             1\n",
       "Unspecified STATEN ISLAND  Noise - Commercial       Banging/Pounding             1\n",
       "                           Noise - Street/Sidewalk  Loud Music/Party             1\n",
       "Length: 2793, dtype: int64"
      ]
     },
     "execution_count": 12,
     "metadata": {},
     "output_type": "execute_result"
    }
   ],
   "source": [
    "Customerservice.groupby(['Community Board','Complaint Type','Descriptor']).size()"
   ]
  },
  {
   "cell_type": "code",
   "execution_count": 13,
   "metadata": {},
   "outputs": [
    {
     "data": {
      "text/plain": [
       "School Name                      Complaint Type            Descriptor                    \n",
       "Alley Pond Park - Nature Center  Animal in a Park          Animal Waste                          1\n",
       "Unspecified                      Agency Issues             Language Access Complaint             6\n",
       "                                 Animal Abuse              Chained                             535\n",
       "                                                           In Car                              251\n",
       "                                                           Neglected                          3787\n",
       "                                                           No Shelter                          382\n",
       "                                                           Other (complaint details)          1969\n",
       "                                                           Tortured                            854\n",
       "                                 Blocked Driveway          No Access                         56976\n",
       "                                                           Partial Access                    20068\n",
       "                                 Derelict Vehicle          With License Plate                17718\n",
       "                                 Disorderly Youth          Nuisance/Truant                      41\n",
       "                                                           Playing in Unsuitable Place         245\n",
       "                                 Drinking                  After Hours - Licensed Est           77\n",
       "                                                           In Public                           932\n",
       "                                                           Underage - Licensed Est             271\n",
       "                                 Ferry Complaint           Disruptive Passenger                  1\n",
       "                                                           Homeless Issue                        1\n",
       "                                 Graffiti                  Police Report Not Requested          23\n",
       "                                                           Police Report Requested              90\n",
       "                                 Illegal Parking           Blocked Hydrant                   16081\n",
       "                                                           Blocked Sidewalk                  11121\n",
       "                                                           Commercial Overnight Parking      12189\n",
       "                                                           Detached Trailer                    464\n",
       "                                                           Double Parked Blocking Traffic     5731\n",
       "                                                           Double Parked Blocking Vehicle     4211\n",
       "                                                           Overnight Commercial Storage       1757\n",
       "                                                           Posted Parking Sign Violation     22440\n",
       "                                                           Unauthorized Bus Layover           1367\n",
       "                                 Noise - Commercial        Banging/Pounding                   3917\n",
       "                                                           Car/Truck Horn                      991\n",
       "                                                           Car/Truck Music                     899\n",
       "                                                           Loud Music/Party                  25787\n",
       "                                                           Loud Talking                       3891\n",
       "                                                           Loud Television                      92\n",
       "                                 Noise - House of Worship  Banging/Pounding                    248\n",
       "                                                           Loud Music/Party                    504\n",
       "                                                           Loud Talking                        178\n",
       "                                                           Loud Television                       1\n",
       "                                 Noise - Park              Loud Music/Party                   3109\n",
       "                                                           Loud Talking                        933\n",
       "                                 Noise - Street/Sidewalk   Loud Music/Party                  32030\n",
       "                                                           Loud Talking                      16582\n",
       "                                 Noise - Vehicle           Car/Truck Horn                     2520\n",
       "                                                           Car/Truck Music                   10374\n",
       "                                                           Engine Idling                      4189\n",
       "                                 Posting Advertisement     Building                             60\n",
       "                                                           Vehicle                             590\n",
       "                                 Traffic                   Chronic Speeding                    268\n",
       "                                                           Chronic Stoplight Violation         280\n",
       "                                                           Congestion/Gridlock                2761\n",
       "                                                           Drag Racing                         175\n",
       "                                                           Truck Route Violation              1014\n",
       "                                 Vending                   In Prohibited Area                 2025\n",
       "                                                           Unlicensed                         1777\n",
       "dtype: int64"
      ]
     },
     "execution_count": 13,
     "metadata": {},
     "output_type": "execute_result"
    }
   ],
   "source": [
    "Customerservice.groupby(['School Name','Complaint Type','Descriptor']).size()"
   ]
  },
  {
   "cell_type": "code",
   "execution_count": 14,
   "metadata": {},
   "outputs": [],
   "source": [
    "import datetime"
   ]
  },
  {
   "cell_type": "code",
   "execution_count": null,
   "metadata": {},
   "outputs": [
    {
     "name": "stderr",
     "output_type": "stream",
     "text": [
      "C:\\Users\\lenovo\\anaconda3\\lib\\site-packages\\IPython\\core\\interactiveshell.py:3063: DtypeWarning: Columns (48,49) have mixed types.Specify dtype option on import or set low_memory=False.\n",
      "  interactivity=interactivity, compiler=compiler, result=result)\n"
     ]
    }
   ],
   "source": [
    "df = pd.read_csv ('311_Service_Requests_from_2010_to_Present.csv' , parse_dates= ['Closed Date' , 'Created Date'])"
   ]
  },
  {
   "cell_type": "code",
   "execution_count": null,
   "metadata": {},
   "outputs": [],
   "source": [
    "df[\"Request_Closing_Time\"] = df[\"Closed Date\"] - df[\"Created Date\"]"
   ]
  },
  {
   "cell_type": "code",
   "execution_count": null,
   "metadata": {},
   "outputs": [],
   "source": [
    "df['Status'].value_counts().plot(kind='bar',alpha=0.6,figsize=(10,10))\n",
    "plt.show()"
   ]
  },
  {
   "cell_type": "code",
   "execution_count": null,
   "metadata": {},
   "outputs": [],
   "source": [
    "#Bar graph of 12 Complaints\n",
    "Customerservice['Complaint Type'].value_counts().head(12).plot(kind='barh',figsize=(6,5));"
   ]
  },
  {
   "cell_type": "code",
   "execution_count": null,
   "metadata": {},
   "outputs": [],
   "source": [
    "majorcomplints=Customerservice.dropna(subset=[\"Complaint Type\"])\n",
    "majorcomplints=Customerservice.groupby(\"Complaint Type\")\n",
    "\n",
    "sortedComplaintType = majorcomplints.size().sort_values(ascending = False)\n",
    "sortedComplaintType = sortedComplaintType.to_frame('count').reset_index()\n",
    "\n",
    "sortedComplaintType\n",
    "sortedComplaintType.head(12)"
   ]
  },
  {
   "cell_type": "code",
   "execution_count": null,
   "metadata": {},
   "outputs": [],
   "source": [
    "sortedComplaintType = sortedComplaintType.head()\n",
    "plt.figure(figsize=(6,6))\n",
    "plt.pie(sortedComplaintType['count'],labels=sortedComplaintType[\"Complaint Type\"], autopct=\"%1.1f%%\")\n",
    "plt.show()"
   ]
  },
  {
   "cell_type": "code",
   "execution_count": null,
   "metadata": {},
   "outputs": [],
   "source": [
    "#Group dataset by complaint type to display plot against city\n",
    "groupedby_complainttype = df.groupby('Complaint Type')"
   ]
  },
  {
   "cell_type": "code",
   "execution_count": null,
   "metadata": {},
   "outputs": [],
   "source": [
    "group_data = groupedby_complainttype.get_group('Blocked Driveway')\n",
    "group_data.shape"
   ]
  },
  {
   "cell_type": "code",
   "execution_count": null,
   "metadata": {},
   "outputs": [],
   "source": [
    "group_data = groupedby_complainttype.get_group('Illegal Parking')\n",
    "group_data.shape"
   ]
  },
  {
   "cell_type": "code",
   "execution_count": null,
   "metadata": {},
   "outputs": [],
   "source": [
    "group_data = groupedby_complainttype.get_group('Illegal Parking')\n",
    "group_data.size"
   ]
  },
  {
   "cell_type": "code",
   "execution_count": null,
   "metadata": {},
   "outputs": [],
   "source": [
    "group_data = groupedby_complainttype.get_group('Blocked Driveway')\n",
    "group_data.size"
   ]
  },
  {
   "cell_type": "code",
   "execution_count": null,
   "metadata": {},
   "outputs": [],
   "source": [
    "#NaN values in entire dataset\n",
    "df.isnull().sum()"
   ]
  },
  {
   "cell_type": "code",
   "execution_count": null,
   "metadata": {},
   "outputs": [],
   "source": [
    "#fix blank values in City column\n",
    "df['City'].dropna(inplace=True)"
   ]
  },
  {
   "cell_type": "code",
   "execution_count": null,
   "metadata": {},
   "outputs": [],
   "source": [
    "#Shape after dropping nan values\n",
    "df['City'].size"
   ]
  },
  {
   "cell_type": "code",
   "execution_count": null,
   "metadata": {},
   "outputs": [],
   "source": [
    "#Shape after dropping nan values\n",
    "df['City'].shape"
   ]
  },
  {
   "cell_type": "code",
   "execution_count": null,
   "metadata": {},
   "outputs": [],
   "source": [
    "#count of null values in grouped city column data\n",
    "group_data['City'].isnull().sum()"
   ]
  },
  {
   "cell_type": "code",
   "execution_count": null,
   "metadata": {},
   "outputs": [],
   "source": [
    "#fix those NAN with \"unknown city\" value instead\n",
    "group_data['City'].fillna('Unknown City', inplace =False)"
   ]
  },
  {
   "cell_type": "code",
   "execution_count": null,
   "metadata": {},
   "outputs": [],
   "source": [
    "#Scatter plot displaying all the cities that raised complaint of type 'Blocked Driveway'\n",
    "plt.figure(figsize=(15, 15))\n",
    "plt.scatter(group_data['Complaint Type'],group_data['City'])\n",
    "plt.title('Plot showing list of cities that raised complaint of type Blocked Driveway')\n",
    "plt.show()"
   ]
  },
  {
   "cell_type": "code",
   "execution_count": null,
   "metadata": {},
   "outputs": [],
   "source": [
    "#Scatter plot displaying all the cities that raised complaint of type 'illegal Parking'\n",
    "plt.figure(figsize=(15, 15))\n",
    "plt.scatter(group_data['Complaint Type'],group_data['City'])\n",
    "plt.title('Plot showing list of cities that raised complaint of type Illegal Parking')\n",
    "plt.show()"
   ]
  },
  {
   "cell_type": "code",
   "execution_count": null,
   "metadata": {},
   "outputs": [],
   "source": []
  },
  {
   "cell_type": "code",
   "execution_count": null,
   "metadata": {},
   "outputs": [],
   "source": []
  }
 ],
 "metadata": {
  "kernelspec": {
   "display_name": "Python 3",
   "language": "python",
   "name": "python3"
  },
  "language_info": {
   "codemirror_mode": {
    "name": "ipython",
    "version": 3
   },
   "file_extension": ".py",
   "mimetype": "text/x-python",
   "name": "python",
   "nbconvert_exporter": "python",
   "pygments_lexer": "ipython3",
   "version": "3.7.6"
  }
 },
 "nbformat": 4,
 "nbformat_minor": 4
}
